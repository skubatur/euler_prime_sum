{
 "cells": [
  {
   "cell_type": "markdown",
   "metadata": {},
   "source": [
    "# Problem Statement"
   ]
  },
  {
   "cell_type": "markdown",
   "metadata": {},
   "source": [
    "Given $N$, find the sum of all primes less than or equal to $N$.\n"
   ]
  },
  {
   "cell_type": "markdown",
   "metadata": {},
   "source": [
    "## My solution and code commentary"
   ]
  },
  {
   "cell_type": "markdown",
   "metadata": {},
   "source": [
    "To sum all primes less than N, we need to find all the primes less than $N$.\n",
    "\n",
    "Brute force: For each number $1<=i<=N$ check if i is prime and if it is, add it to our sum. \n",
    "\n",
    "This is inefficient. \n",
    "\n",
    "Better Approach: Use sieve of Erosthenes to determine all primes less than $N$.\n",
    "\n",
    "Step 1: Create a array 0, 1, ..., N. Each value of this array is True. <br>\n",
    "Step 2: <br>\n",
    "* For i in range(N): <br>\n",
    "            * if array[i] is True: // Set every multiple of i to False\n",
    "                * for j in [2*i, 3*i, 4,*i, ..., until N]:\n",
    "                    *array[j] = False\n",
    "                    \n",
    "Step 3: Take the sum of numbers in array that are set to True. These are prime numbers.\n",
    "\n",
    "This solution has a complexity of O(N)."
    "For further improvement, we can look into implementing sieve of Atkins which provides even better asymptotic efficiency."
   ]
  },
  {
   "cell_type": "code",
   "execution_count": null,
   "metadata": {},
   "outputs": [],
   "source": []
  }
 ],
 "metadata": {
  "kernelspec": {
   "display_name": "Python 3",
   "language": "python",
   "name": "python3"
  },
  "language_info": {
   "codemirror_mode": {
    "name": "ipython",
    "version": 3
   },
   "file_extension": ".py",
   "mimetype": "text/x-python",
   "name": "python",
   "nbconvert_exporter": "python",
   "pygments_lexer": "ipython3",
   "version": "3.6.7"
  }
 },
 "nbformat": 4,
 "nbformat_minor": 2
}
