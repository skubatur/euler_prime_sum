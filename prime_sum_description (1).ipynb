{
 "cells": [
  {
   "cell_type": "markdown",
   "metadata": {},
   "source": [
    "# Problem Statement"
   ]
  },
  {
   "cell_type": "markdown",
   "metadata": {},
   "source": [
    "Given $N$, find the sum of all primes less than or equal to $N$.\n"
   ]
  },
  {
   "cell_type": "markdown",
   "metadata": {},
   "source": [
    "## My solution and code commentary"
   ]
  },
  {
   "cell_type": "markdown",
   "metadata": {},
   "source": [
    "To sum all primes less than $N$, we first need to find all the primes less than $N$.\n",
    "\n",
    "Brute force method: For each number $1<=i<=N$ check if $i$ is prime. If it is, add it to the sum. \n",
    "This is inefficient. \n",
    "\n",
    "Better (i.e., faster) approach: Use \"Sieve of Erosthenes\" to determine all primes less than $N$.\n",
    "The idea is to initially assume all positive integers <= $N$ are prime. 1 is a special number (let's say it's not prime for our purposes). 2 is prime and this is where start the procedure. The Sieve of Erosthenes method proceeds by marking all integer multiples of 2 (until we hit $N$) as non-prime (or composite). At this stage, all even numbers are marked composite (i.e., \"False\" in the array). We then move onto the next element that is still not marked as composite. That would be 3. We then mark as integer multiples of 3 (until $N$) as composite. And so on.\n",
    "\n",
    "The merit of this method is that we never try to find factors of a number -- that would have been a much harder problem. Instead we iteratively mark off numbers that we know are composite for sure. This is what drives the efficiency and simplicity of this method.\n",
    "\n",
    "Step 1: Create an array 0, 1, ..., $N$. Each value of this array is initialized to True. <br>\n",
    "Step 2: <br>\n",
    "* for i in range(2, N): <br>\n",
    "            * if array[i] is True: // Set every multiple of i to False\n",
    "                * for j in [2*i, 3*i, 4*i, ..., until N]:\n",
    "                    *array[j] = False\n",
    "                    \n",
    "Step 3: Take the sum of numbers in array that remain set to True. These are prime numbers.\n",
    "\n",
    "This solution has a complexity of O($N$). For further improvement, we can look into implementing \"Sieve of Atkins\" which provides even better asymptotic efficiency.\n"
   ]
  },
  {
   "cell_type": "code",
   "execution_count": null,
   "metadata": {},
   "outputs": [],
   "source": []
  }
 ],
 "metadata": {
  "kernelspec": {
   "display_name": "Python 3",
   "language": "python",
   "name": "python3"
  },
  "language_info": {
   "codemirror_mode": {
    "name": "ipython",
    "version": 3
   },
   "file_extension": ".py",
   "mimetype": "text/x-python",
   "name": "python",
   "nbconvert_exporter": "python",
   "pygments_lexer": "ipython3",
   "version": "3.6.7"
  }
 },
 "nbformat": 4,
 "nbformat_minor": 2
}
